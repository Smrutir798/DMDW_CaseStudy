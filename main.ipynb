{
 "cells": [
  {
   "cell_type": "code",
   "metadata": {
    "ExecuteTime": {
     "end_time": "2024-10-31T04:42:18.585547Z",
     "start_time": "2024-10-31T04:42:18.571546Z"
    }
   },
   "source": [
    "#importing libraries\n",
    "import numpy as np\n",
    "import pandas as pd\n",
    "import matplotlib.pyplot as plt\n",
    "import seaborn as sns"
   ],
   "outputs": [],
   "execution_count": 1
  },
  {
   "cell_type": "code",
   "metadata": {
    "ExecuteTime": {
     "end_time": "2024-10-31T04:42:18.635510Z",
     "start_time": "2024-10-31T04:42:18.587563Z"
    }
   },
   "source": [
    "#lodading the dataset\n",
    "df = pd.read_csv('2023_1year.csv')"
   ],
   "outputs": [],
   "execution_count": 2
  },
  {
   "cell_type": "code",
   "metadata": {
    "ExecuteTime": {
     "end_time": "2024-10-31T04:42:18.706317Z",
     "start_time": "2024-10-31T04:42:18.638522Z"
    }
   },
   "source": [
    "#exploring the dataset\n",
    "df.head()"
   ],
   "outputs": [
    {
     "data": {
      "text/plain": [
       "      regn_no           std_name  Semster std_branch  \\\n",
       "0  2301020001      ARYAN  SARKAR        1       AIDS   \n",
       "1  2301020002   AYUSHMAN  MISHRA        1       AIDS   \n",
       "2  2301020003  PRAMIT KUMAR NAIK        1       AIDS   \n",
       "3  2301020004  ANKIT KUMAR SINGH        1       AIDS   \n",
       "4  2301020005   SUBHAM KUMAR JHA        1       AIDS   \n",
       "\n",
       "  CS101--Programming for Problem Solving  \\\n",
       "0                                      C   \n",
       "1                                      A   \n",
       "2                                      B   \n",
       "3                                      E   \n",
       "4                                      B   \n",
       "\n",
       "  CS171--Programming for Problem Solving Lab  \\\n",
       "0                                          A   \n",
       "1                                          O   \n",
       "2                                          O   \n",
       "3                                          E   \n",
       "4                                          B   \n",
       "\n",
       "  EC101--Introduction to  Electronics Engineering  \\\n",
       "0                                               D   \n",
       "1                                             NaN   \n",
       "2                                               C   \n",
       "3                                               A   \n",
       "4                                               B   \n",
       "\n",
       "  EC171--Introduction to Electronics Engineering Lab  \\\n",
       "0                                                  E   \n",
       "1                                                  A   \n",
       "2                                                  E   \n",
       "3                                                  A   \n",
       "4                                                  E   \n",
       "\n",
       "  EE100--Basic Electrical Engineering EE170--Basic Electrical Engineering Lab  \\\n",
       "0                                 NaN                                     NaN   \n",
       "1                                 NaN                                     NaN   \n",
       "2                                 NaN                                     NaN   \n",
       "3                                 NaN                                     NaN   \n",
       "4                                 NaN                                     NaN   \n",
       "\n",
       "   ... MA102--Mathematics II XC102--CHESS XC103--Carrom XC104--Basketball  \\\n",
       "0  ...                   NaN          NaN           NaN               NaN   \n",
       "1  ...                   NaN          NaN           NaN               NaN   \n",
       "2  ...                   NaN          NaN           NaN               NaN   \n",
       "3  ...                   NaN          NaN           NaN               NaN   \n",
       "4  ...                   NaN          NaN           NaN               NaN   \n",
       "\n",
       "  XC107--Volleyball XC109--NSS XC111--Yoga XC192--Life Skill-I  sgpa  cgpa  \n",
       "0               NaN        NaN         NaN                 NaN  6.47  6.47  \n",
       "1               NaN        NaN         NaN                 NaN  7.79  7.79  \n",
       "2               NaN        NaN         NaN                 NaN  7.37  7.37  \n",
       "3               NaN        NaN         NaN                 NaN  7.95  7.95  \n",
       "4               NaN        NaN         NaN                 NaN  7.21  7.21  \n",
       "\n",
       "[5 rows x 30 columns]"
      ],
      "text/html": [
       "<div>\n",
       "<style scoped>\n",
       "    .dataframe tbody tr th:only-of-type {\n",
       "        vertical-align: middle;\n",
       "    }\n",
       "\n",
       "    .dataframe tbody tr th {\n",
       "        vertical-align: top;\n",
       "    }\n",
       "\n",
       "    .dataframe thead th {\n",
       "        text-align: right;\n",
       "    }\n",
       "</style>\n",
       "<table border=\"1\" class=\"dataframe\">\n",
       "  <thead>\n",
       "    <tr style=\"text-align: right;\">\n",
       "      <th></th>\n",
       "      <th>regn_no</th>\n",
       "      <th>std_name</th>\n",
       "      <th>Semster</th>\n",
       "      <th>std_branch</th>\n",
       "      <th>CS101--Programming for Problem Solving</th>\n",
       "      <th>CS171--Programming for Problem Solving Lab</th>\n",
       "      <th>EC101--Introduction to  Electronics Engineering</th>\n",
       "      <th>EC171--Introduction to Electronics Engineering Lab</th>\n",
       "      <th>EE100--Basic Electrical Engineering</th>\n",
       "      <th>EE170--Basic Electrical Engineering Lab</th>\n",
       "      <th>...</th>\n",
       "      <th>MA102--Mathematics II</th>\n",
       "      <th>XC102--CHESS</th>\n",
       "      <th>XC103--Carrom</th>\n",
       "      <th>XC104--Basketball</th>\n",
       "      <th>XC107--Volleyball</th>\n",
       "      <th>XC109--NSS</th>\n",
       "      <th>XC111--Yoga</th>\n",
       "      <th>XC192--Life Skill-I</th>\n",
       "      <th>sgpa</th>\n",
       "      <th>cgpa</th>\n",
       "    </tr>\n",
       "  </thead>\n",
       "  <tbody>\n",
       "    <tr>\n",
       "      <th>0</th>\n",
       "      <td>2301020001</td>\n",
       "      <td>ARYAN  SARKAR</td>\n",
       "      <td>1</td>\n",
       "      <td>AIDS</td>\n",
       "      <td>C</td>\n",
       "      <td>A</td>\n",
       "      <td>D</td>\n",
       "      <td>E</td>\n",
       "      <td>NaN</td>\n",
       "      <td>NaN</td>\n",
       "      <td>...</td>\n",
       "      <td>NaN</td>\n",
       "      <td>NaN</td>\n",
       "      <td>NaN</td>\n",
       "      <td>NaN</td>\n",
       "      <td>NaN</td>\n",
       "      <td>NaN</td>\n",
       "      <td>NaN</td>\n",
       "      <td>NaN</td>\n",
       "      <td>6.47</td>\n",
       "      <td>6.47</td>\n",
       "    </tr>\n",
       "    <tr>\n",
       "      <th>1</th>\n",
       "      <td>2301020002</td>\n",
       "      <td>AYUSHMAN  MISHRA</td>\n",
       "      <td>1</td>\n",
       "      <td>AIDS</td>\n",
       "      <td>A</td>\n",
       "      <td>O</td>\n",
       "      <td>NaN</td>\n",
       "      <td>A</td>\n",
       "      <td>NaN</td>\n",
       "      <td>NaN</td>\n",
       "      <td>...</td>\n",
       "      <td>NaN</td>\n",
       "      <td>NaN</td>\n",
       "      <td>NaN</td>\n",
       "      <td>NaN</td>\n",
       "      <td>NaN</td>\n",
       "      <td>NaN</td>\n",
       "      <td>NaN</td>\n",
       "      <td>NaN</td>\n",
       "      <td>7.79</td>\n",
       "      <td>7.79</td>\n",
       "    </tr>\n",
       "    <tr>\n",
       "      <th>2</th>\n",
       "      <td>2301020003</td>\n",
       "      <td>PRAMIT KUMAR NAIK</td>\n",
       "      <td>1</td>\n",
       "      <td>AIDS</td>\n",
       "      <td>B</td>\n",
       "      <td>O</td>\n",
       "      <td>C</td>\n",
       "      <td>E</td>\n",
       "      <td>NaN</td>\n",
       "      <td>NaN</td>\n",
       "      <td>...</td>\n",
       "      <td>NaN</td>\n",
       "      <td>NaN</td>\n",
       "      <td>NaN</td>\n",
       "      <td>NaN</td>\n",
       "      <td>NaN</td>\n",
       "      <td>NaN</td>\n",
       "      <td>NaN</td>\n",
       "      <td>NaN</td>\n",
       "      <td>7.37</td>\n",
       "      <td>7.37</td>\n",
       "    </tr>\n",
       "    <tr>\n",
       "      <th>3</th>\n",
       "      <td>2301020004</td>\n",
       "      <td>ANKIT KUMAR SINGH</td>\n",
       "      <td>1</td>\n",
       "      <td>AIDS</td>\n",
       "      <td>E</td>\n",
       "      <td>E</td>\n",
       "      <td>A</td>\n",
       "      <td>A</td>\n",
       "      <td>NaN</td>\n",
       "      <td>NaN</td>\n",
       "      <td>...</td>\n",
       "      <td>NaN</td>\n",
       "      <td>NaN</td>\n",
       "      <td>NaN</td>\n",
       "      <td>NaN</td>\n",
       "      <td>NaN</td>\n",
       "      <td>NaN</td>\n",
       "      <td>NaN</td>\n",
       "      <td>NaN</td>\n",
       "      <td>7.95</td>\n",
       "      <td>7.95</td>\n",
       "    </tr>\n",
       "    <tr>\n",
       "      <th>4</th>\n",
       "      <td>2301020005</td>\n",
       "      <td>SUBHAM KUMAR JHA</td>\n",
       "      <td>1</td>\n",
       "      <td>AIDS</td>\n",
       "      <td>B</td>\n",
       "      <td>B</td>\n",
       "      <td>B</td>\n",
       "      <td>E</td>\n",
       "      <td>NaN</td>\n",
       "      <td>NaN</td>\n",
       "      <td>...</td>\n",
       "      <td>NaN</td>\n",
       "      <td>NaN</td>\n",
       "      <td>NaN</td>\n",
       "      <td>NaN</td>\n",
       "      <td>NaN</td>\n",
       "      <td>NaN</td>\n",
       "      <td>NaN</td>\n",
       "      <td>NaN</td>\n",
       "      <td>7.21</td>\n",
       "      <td>7.21</td>\n",
       "    </tr>\n",
       "  </tbody>\n",
       "</table>\n",
       "<p>5 rows × 30 columns</p>\n",
       "</div>"
      ]
     },
     "execution_count": 3,
     "metadata": {},
     "output_type": "execute_result"
    }
   ],
   "execution_count": 3
  },
  {
   "cell_type": "code",
   "metadata": {
    "ExecuteTime": {
     "end_time": "2024-10-31T04:42:18.739225Z",
     "start_time": "2024-10-31T04:42:18.710332Z"
    }
   },
   "source": [
    "df.tail()"
   ],
   "outputs": [
    {
     "data": {
      "text/plain": [
       "         regn_no          std_name  Semster std_branch  \\\n",
       "1580  2301020773       HARSH  SAHU        2        RAI   \n",
       "1581  2301020792   CHINMAYA  PATRA        2        RAI   \n",
       "1582  2301020793  PRATISTHA  PATRA        2        RAI   \n",
       "1583  2301020794     SATYAM  KUMAR        2        RAI   \n",
       "1584  2301020859    NITESH  GOURAV        2        RAI   \n",
       "\n",
       "     CS101--Programming for Problem Solving  \\\n",
       "1580                                    NaN   \n",
       "1581                                    NaN   \n",
       "1582                                    NaN   \n",
       "1583                                    NaN   \n",
       "1584                                    NaN   \n",
       "\n",
       "     CS171--Programming for Problem Solving Lab  \\\n",
       "1580                                        NaN   \n",
       "1581                                        NaN   \n",
       "1582                                        NaN   \n",
       "1583                                        NaN   \n",
       "1584                                        NaN   \n",
       "\n",
       "     EC101--Introduction to  Electronics Engineering  \\\n",
       "1580                                               C   \n",
       "1581                                               C   \n",
       "1582                                               C   \n",
       "1583                                               C   \n",
       "1584                                               B   \n",
       "\n",
       "     EC171--Introduction to Electronics Engineering Lab  \\\n",
       "1580                                                  E   \n",
       "1581                                                  E   \n",
       "1582                                                  E   \n",
       "1583                                                  E   \n",
       "1584                                                  O   \n",
       "\n",
       "     EE100--Basic Electrical Engineering  \\\n",
       "1580                                 NaN   \n",
       "1581                                 NaN   \n",
       "1582                                 NaN   \n",
       "1583                                 NaN   \n",
       "1584                                 NaN   \n",
       "\n",
       "     EE170--Basic Electrical Engineering Lab  ... MA102--Mathematics II  \\\n",
       "1580                                     NaN  ...                     D   \n",
       "1581                                     NaN  ...                     C   \n",
       "1582                                     NaN  ...                     C   \n",
       "1583                                     NaN  ...                     D   \n",
       "1584                                     NaN  ...                     D   \n",
       "\n",
       "     XC102--CHESS XC103--Carrom XC104--Basketball XC107--Volleyball  \\\n",
       "1580          NaN           NaN               NaN               NaN   \n",
       "1581          NaN           NaN               NaN               NaN   \n",
       "1582          NaN           NaN               NaN               NaN   \n",
       "1583          NaN           NaN               NaN               NaN   \n",
       "1584          NaN           NaN               NaN               NaN   \n",
       "\n",
       "     XC109--NSS XC111--Yoga XC192--Life Skill-I  sgpa  cgpa  \n",
       "1580        NaN         NaN                   B  6.76  7.03  \n",
       "1581        NaN         NaN                   A  7.29  7.18  \n",
       "1582        NaN         NaN                   A  7.43  7.13  \n",
       "1583        NaN         NaN                   B  6.95  6.50  \n",
       "1584        NaN         NaN                   A  7.48  6.93  \n",
       "\n",
       "[5 rows x 30 columns]"
      ],
      "text/html": [
       "<div>\n",
       "<style scoped>\n",
       "    .dataframe tbody tr th:only-of-type {\n",
       "        vertical-align: middle;\n",
       "    }\n",
       "\n",
       "    .dataframe tbody tr th {\n",
       "        vertical-align: top;\n",
       "    }\n",
       "\n",
       "    .dataframe thead th {\n",
       "        text-align: right;\n",
       "    }\n",
       "</style>\n",
       "<table border=\"1\" class=\"dataframe\">\n",
       "  <thead>\n",
       "    <tr style=\"text-align: right;\">\n",
       "      <th></th>\n",
       "      <th>regn_no</th>\n",
       "      <th>std_name</th>\n",
       "      <th>Semster</th>\n",
       "      <th>std_branch</th>\n",
       "      <th>CS101--Programming for Problem Solving</th>\n",
       "      <th>CS171--Programming for Problem Solving Lab</th>\n",
       "      <th>EC101--Introduction to  Electronics Engineering</th>\n",
       "      <th>EC171--Introduction to Electronics Engineering Lab</th>\n",
       "      <th>EE100--Basic Electrical Engineering</th>\n",
       "      <th>EE170--Basic Electrical Engineering Lab</th>\n",
       "      <th>...</th>\n",
       "      <th>MA102--Mathematics II</th>\n",
       "      <th>XC102--CHESS</th>\n",
       "      <th>XC103--Carrom</th>\n",
       "      <th>XC104--Basketball</th>\n",
       "      <th>XC107--Volleyball</th>\n",
       "      <th>XC109--NSS</th>\n",
       "      <th>XC111--Yoga</th>\n",
       "      <th>XC192--Life Skill-I</th>\n",
       "      <th>sgpa</th>\n",
       "      <th>cgpa</th>\n",
       "    </tr>\n",
       "  </thead>\n",
       "  <tbody>\n",
       "    <tr>\n",
       "      <th>1580</th>\n",
       "      <td>2301020773</td>\n",
       "      <td>HARSH  SAHU</td>\n",
       "      <td>2</td>\n",
       "      <td>RAI</td>\n",
       "      <td>NaN</td>\n",
       "      <td>NaN</td>\n",
       "      <td>C</td>\n",
       "      <td>E</td>\n",
       "      <td>NaN</td>\n",
       "      <td>NaN</td>\n",
       "      <td>...</td>\n",
       "      <td>D</td>\n",
       "      <td>NaN</td>\n",
       "      <td>NaN</td>\n",
       "      <td>NaN</td>\n",
       "      <td>NaN</td>\n",
       "      <td>NaN</td>\n",
       "      <td>NaN</td>\n",
       "      <td>B</td>\n",
       "      <td>6.76</td>\n",
       "      <td>7.03</td>\n",
       "    </tr>\n",
       "    <tr>\n",
       "      <th>1581</th>\n",
       "      <td>2301020792</td>\n",
       "      <td>CHINMAYA  PATRA</td>\n",
       "      <td>2</td>\n",
       "      <td>RAI</td>\n",
       "      <td>NaN</td>\n",
       "      <td>NaN</td>\n",
       "      <td>C</td>\n",
       "      <td>E</td>\n",
       "      <td>NaN</td>\n",
       "      <td>NaN</td>\n",
       "      <td>...</td>\n",
       "      <td>C</td>\n",
       "      <td>NaN</td>\n",
       "      <td>NaN</td>\n",
       "      <td>NaN</td>\n",
       "      <td>NaN</td>\n",
       "      <td>NaN</td>\n",
       "      <td>NaN</td>\n",
       "      <td>A</td>\n",
       "      <td>7.29</td>\n",
       "      <td>7.18</td>\n",
       "    </tr>\n",
       "    <tr>\n",
       "      <th>1582</th>\n",
       "      <td>2301020793</td>\n",
       "      <td>PRATISTHA  PATRA</td>\n",
       "      <td>2</td>\n",
       "      <td>RAI</td>\n",
       "      <td>NaN</td>\n",
       "      <td>NaN</td>\n",
       "      <td>C</td>\n",
       "      <td>E</td>\n",
       "      <td>NaN</td>\n",
       "      <td>NaN</td>\n",
       "      <td>...</td>\n",
       "      <td>C</td>\n",
       "      <td>NaN</td>\n",
       "      <td>NaN</td>\n",
       "      <td>NaN</td>\n",
       "      <td>NaN</td>\n",
       "      <td>NaN</td>\n",
       "      <td>NaN</td>\n",
       "      <td>A</td>\n",
       "      <td>7.43</td>\n",
       "      <td>7.13</td>\n",
       "    </tr>\n",
       "    <tr>\n",
       "      <th>1583</th>\n",
       "      <td>2301020794</td>\n",
       "      <td>SATYAM  KUMAR</td>\n",
       "      <td>2</td>\n",
       "      <td>RAI</td>\n",
       "      <td>NaN</td>\n",
       "      <td>NaN</td>\n",
       "      <td>C</td>\n",
       "      <td>E</td>\n",
       "      <td>NaN</td>\n",
       "      <td>NaN</td>\n",
       "      <td>...</td>\n",
       "      <td>D</td>\n",
       "      <td>NaN</td>\n",
       "      <td>NaN</td>\n",
       "      <td>NaN</td>\n",
       "      <td>NaN</td>\n",
       "      <td>NaN</td>\n",
       "      <td>NaN</td>\n",
       "      <td>B</td>\n",
       "      <td>6.95</td>\n",
       "      <td>6.50</td>\n",
       "    </tr>\n",
       "    <tr>\n",
       "      <th>1584</th>\n",
       "      <td>2301020859</td>\n",
       "      <td>NITESH  GOURAV</td>\n",
       "      <td>2</td>\n",
       "      <td>RAI</td>\n",
       "      <td>NaN</td>\n",
       "      <td>NaN</td>\n",
       "      <td>B</td>\n",
       "      <td>O</td>\n",
       "      <td>NaN</td>\n",
       "      <td>NaN</td>\n",
       "      <td>...</td>\n",
       "      <td>D</td>\n",
       "      <td>NaN</td>\n",
       "      <td>NaN</td>\n",
       "      <td>NaN</td>\n",
       "      <td>NaN</td>\n",
       "      <td>NaN</td>\n",
       "      <td>NaN</td>\n",
       "      <td>A</td>\n",
       "      <td>7.48</td>\n",
       "      <td>6.93</td>\n",
       "    </tr>\n",
       "  </tbody>\n",
       "</table>\n",
       "<p>5 rows × 30 columns</p>\n",
       "</div>"
      ]
     },
     "execution_count": 4,
     "metadata": {},
     "output_type": "execute_result"
    }
   ],
   "execution_count": 4
  },
  {
   "cell_type": "code",
   "metadata": {
    "ExecuteTime": {
     "end_time": "2024-10-31T04:42:18.775360Z",
     "start_time": "2024-10-31T04:42:18.740234Z"
    }
   },
   "source": [
    "df.info()"
   ],
   "outputs": [
    {
     "name": "stdout",
     "output_type": "stream",
     "text": [
      "<class 'pandas.core.frame.DataFrame'>\n",
      "RangeIndex: 1585 entries, 0 to 1584\n",
      "Data columns (total 30 columns):\n",
      " #   Column                                              Non-Null Count  Dtype  \n",
      "---  ------                                              --------------  -----  \n",
      " 0   regn_no                                             1585 non-null   int64  \n",
      " 1   std_name                                            1585 non-null   object \n",
      " 2   Semster                                             1585 non-null   int64  \n",
      " 3   std_branch                                          1585 non-null   object \n",
      " 4   CS101--Programming for Problem Solving              792 non-null    object \n",
      " 5   CS171--Programming for Problem Solving Lab          792 non-null    object \n",
      " 6   EC101--Introduction to  Electronics Engineering     791 non-null    object \n",
      " 7   EC171--Introduction to Electronics Engineering Lab  792 non-null    object \n",
      " 8   EE100--Basic Electrical Engineering                 793 non-null    object \n",
      " 9   EE170--Basic Electrical Engineering Lab             793 non-null    object \n",
      " 10  LS101--Life Skills  I                               345 non-null    object \n",
      " 11  LS102--Life Skills  II                              447 non-null    object \n",
      " 12  MA101--Mathematics I                                792 non-null    object \n",
      " 13  ME131--Introduction to Mechanical Engineering       792 non-null    object \n",
      " 14  ME181--Computer Aided Drawing & Graphics            792 non-null    object \n",
      " 15  PH101--Physics                                      793 non-null    object \n",
      " 16  PH181--Physics Lab                                  793 non-null    object \n",
      " 17  CS102--Data Structure                               793 non-null    object \n",
      " 18  CS172--Data Structure Lab                           793 non-null    object \n",
      " 19  HS101--Professional Communication                   793 non-null    object \n",
      " 20  MA102--Mathematics II                               793 non-null    object \n",
      " 21  XC102--CHESS                                        57 non-null     object \n",
      " 22  XC103--Carrom                                       63 non-null     object \n",
      " 23  XC104--Basketball                                   59 non-null     object \n",
      " 24  XC107--Volleyball                                   88 non-null     object \n",
      " 25  XC109--NSS                                          32 non-null     object \n",
      " 26  XC111--Yoga                                         149 non-null    object \n",
      " 27  XC192--Life Skill-I                                 345 non-null    object \n",
      " 28  sgpa                                                1585 non-null   float64\n",
      " 29  cgpa                                                1585 non-null   float64\n",
      "dtypes: float64(2), int64(2), object(26)\n",
      "memory usage: 371.6+ KB\n"
     ]
    }
   ],
   "execution_count": 5
  },
  {
   "cell_type": "code",
   "metadata": {
    "ExecuteTime": {
     "end_time": "2024-10-31T04:42:18.791003Z",
     "start_time": "2024-10-31T04:42:18.780382Z"
    }
   },
   "source": [
    "df.columns"
   ],
   "outputs": [
    {
     "data": {
      "text/plain": [
       "Index(['regn_no', 'std_name', 'Semster', 'std_branch',\n",
       "       'CS101--Programming for Problem Solving',\n",
       "       'CS171--Programming for Problem Solving Lab',\n",
       "       'EC101--Introduction to  Electronics Engineering',\n",
       "       'EC171--Introduction to Electronics Engineering Lab',\n",
       "       'EE100--Basic Electrical Engineering',\n",
       "       'EE170--Basic Electrical Engineering Lab', 'LS101--Life Skills  I',\n",
       "       'LS102--Life Skills  II', 'MA101--Mathematics I',\n",
       "       'ME131--Introduction to Mechanical Engineering',\n",
       "       'ME181--Computer Aided Drawing & Graphics', 'PH101--Physics',\n",
       "       'PH181--Physics Lab', 'CS102--Data Structure',\n",
       "       'CS172--Data Structure Lab', 'HS101--Professional Communication',\n",
       "       'MA102--Mathematics II', 'XC102--CHESS', 'XC103--Carrom',\n",
       "       'XC104--Basketball', 'XC107--Volleyball', 'XC109--NSS', 'XC111--Yoga',\n",
       "       'XC192--Life Skill-I', 'sgpa', 'cgpa'],\n",
       "      dtype='object')"
      ]
     },
     "execution_count": 6,
     "metadata": {},
     "output_type": "execute_result"
    }
   ],
   "execution_count": 6
  },
  {
   "cell_type": "code",
   "metadata": {
    "ExecuteTime": {
     "end_time": "2024-10-31T04:42:18.805220Z",
     "start_time": "2024-10-31T04:42:18.799021Z"
    }
   },
   "source": [
    "df_sem = df.groupby('Semster')"
   ],
   "outputs": [],
   "execution_count": 7
  },
  {
   "cell_type": "code",
   "metadata": {
    "ExecuteTime": {
     "end_time": "2024-10-31T04:42:18.819544Z",
     "start_time": "2024-10-31T04:42:18.807233Z"
    }
   },
   "source": [
    "df_sem1  = df_sem.get_group(1)\n",
    "df_sem2  = df_sem.get_group(2)"
   ],
   "outputs": [],
   "execution_count": 8
  },
  {
   "cell_type": "code",
   "metadata": {
    "ExecuteTime": {
     "end_time": "2024-10-31T04:42:18.838679Z",
     "start_time": "2024-10-31T04:42:18.822560Z"
    }
   },
   "source": [
    "df_sem1.count()"
   ],
   "outputs": [
    {
     "data": {
      "text/plain": [
       "regn_no                                               792\n",
       "std_name                                              792\n",
       "Semster                                               792\n",
       "std_branch                                            792\n",
       "CS101--Programming for Problem Solving                792\n",
       "CS171--Programming for Problem Solving Lab            792\n",
       "EC101--Introduction to  Electronics Engineering       446\n",
       "EC171--Introduction to Electronics Engineering Lab    447\n",
       "EE100--Basic Electrical Engineering                   345\n",
       "EE170--Basic Electrical Engineering Lab               345\n",
       "LS101--Life Skills  I                                 345\n",
       "LS102--Life Skills  II                                447\n",
       "MA101--Mathematics I                                  792\n",
       "ME131--Introduction to Mechanical Engineering         447\n",
       "ME181--Computer Aided Drawing & Graphics              447\n",
       "PH101--Physics                                        345\n",
       "PH181--Physics Lab                                    345\n",
       "CS102--Data Structure                                   0\n",
       "CS172--Data Structure Lab                               0\n",
       "HS101--Professional Communication                       0\n",
       "MA102--Mathematics II                                   0\n",
       "XC102--CHESS                                            0\n",
       "XC103--Carrom                                           0\n",
       "XC104--Basketball                                       0\n",
       "XC107--Volleyball                                       0\n",
       "XC109--NSS                                              0\n",
       "XC111--Yoga                                             0\n",
       "XC192--Life Skill-I                                     0\n",
       "sgpa                                                  792\n",
       "cgpa                                                  792\n",
       "dtype: int64"
      ]
     },
     "execution_count": 9,
     "metadata": {},
     "output_type": "execute_result"
    }
   ],
   "execution_count": 9
  },
  {
   "cell_type": "code",
   "metadata": {
    "ExecuteTime": {
     "end_time": "2024-10-31T04:42:18.861141Z",
     "start_time": "2024-10-31T04:42:18.841691Z"
    }
   },
   "source": [
    "df_sem2.count()"
   ],
   "outputs": [
    {
     "data": {
      "text/plain": [
       "regn_no                                               793\n",
       "std_name                                              793\n",
       "Semster                                               793\n",
       "std_branch                                            793\n",
       "CS101--Programming for Problem Solving                  0\n",
       "CS171--Programming for Problem Solving Lab              0\n",
       "EC101--Introduction to  Electronics Engineering       345\n",
       "EC171--Introduction to Electronics Engineering Lab    345\n",
       "EE100--Basic Electrical Engineering                   448\n",
       "EE170--Basic Electrical Engineering Lab               448\n",
       "LS101--Life Skills  I                                   0\n",
       "LS102--Life Skills  II                                  0\n",
       "MA101--Mathematics I                                    0\n",
       "ME131--Introduction to Mechanical Engineering         345\n",
       "ME181--Computer Aided Drawing & Graphics              345\n",
       "PH101--Physics                                        448\n",
       "PH181--Physics Lab                                    448\n",
       "CS102--Data Structure                                 793\n",
       "CS172--Data Structure Lab                             793\n",
       "HS101--Professional Communication                     793\n",
       "MA102--Mathematics II                                 793\n",
       "XC102--CHESS                                           57\n",
       "XC103--Carrom                                          63\n",
       "XC104--Basketball                                      59\n",
       "XC107--Volleyball                                      88\n",
       "XC109--NSS                                             32\n",
       "XC111--Yoga                                           149\n",
       "XC192--Life Skill-I                                   345\n",
       "sgpa                                                  793\n",
       "cgpa                                                  793\n",
       "dtype: int64"
      ]
     },
     "execution_count": 10,
     "metadata": {},
     "output_type": "execute_result"
    }
   ],
   "execution_count": 10
  },
  {
   "cell_type": "code",
   "metadata": {
    "ExecuteTime": {
     "end_time": "2024-10-31T04:42:18.904777Z",
     "start_time": "2024-10-31T04:42:18.868158Z"
    }
   },
   "source": [
    "df_sem1.describe()"
   ],
   "outputs": [
    {
     "data": {
      "text/plain": [
       "            regn_no  Semster        sgpa        cgpa\n",
       "count  7.920000e+02    792.0  792.000000  792.000000\n",
       "mean   2.300768e+09      1.0    6.583712    6.583712\n",
       "std    7.106690e+06      0.0    2.312423    2.312423\n",
       "min    2.101020e+09      1.0    0.000000    0.000000\n",
       "25%    2.301020e+09      1.0    6.000000    6.000000\n",
       "50%    2.301020e+09      1.0    7.260000    7.260000\n",
       "75%    2.301021e+09      1.0    8.000000    8.000000\n",
       "max    2.301021e+09      1.0    9.890000    9.890000"
      ],
      "text/html": [
       "<div>\n",
       "<style scoped>\n",
       "    .dataframe tbody tr th:only-of-type {\n",
       "        vertical-align: middle;\n",
       "    }\n",
       "\n",
       "    .dataframe tbody tr th {\n",
       "        vertical-align: top;\n",
       "    }\n",
       "\n",
       "    .dataframe thead th {\n",
       "        text-align: right;\n",
       "    }\n",
       "</style>\n",
       "<table border=\"1\" class=\"dataframe\">\n",
       "  <thead>\n",
       "    <tr style=\"text-align: right;\">\n",
       "      <th></th>\n",
       "      <th>regn_no</th>\n",
       "      <th>Semster</th>\n",
       "      <th>sgpa</th>\n",
       "      <th>cgpa</th>\n",
       "    </tr>\n",
       "  </thead>\n",
       "  <tbody>\n",
       "    <tr>\n",
       "      <th>count</th>\n",
       "      <td>7.920000e+02</td>\n",
       "      <td>792.0</td>\n",
       "      <td>792.000000</td>\n",
       "      <td>792.000000</td>\n",
       "    </tr>\n",
       "    <tr>\n",
       "      <th>mean</th>\n",
       "      <td>2.300768e+09</td>\n",
       "      <td>1.0</td>\n",
       "      <td>6.583712</td>\n",
       "      <td>6.583712</td>\n",
       "    </tr>\n",
       "    <tr>\n",
       "      <th>std</th>\n",
       "      <td>7.106690e+06</td>\n",
       "      <td>0.0</td>\n",
       "      <td>2.312423</td>\n",
       "      <td>2.312423</td>\n",
       "    </tr>\n",
       "    <tr>\n",
       "      <th>min</th>\n",
       "      <td>2.101020e+09</td>\n",
       "      <td>1.0</td>\n",
       "      <td>0.000000</td>\n",
       "      <td>0.000000</td>\n",
       "    </tr>\n",
       "    <tr>\n",
       "      <th>25%</th>\n",
       "      <td>2.301020e+09</td>\n",
       "      <td>1.0</td>\n",
       "      <td>6.000000</td>\n",
       "      <td>6.000000</td>\n",
       "    </tr>\n",
       "    <tr>\n",
       "      <th>50%</th>\n",
       "      <td>2.301020e+09</td>\n",
       "      <td>1.0</td>\n",
       "      <td>7.260000</td>\n",
       "      <td>7.260000</td>\n",
       "    </tr>\n",
       "    <tr>\n",
       "      <th>75%</th>\n",
       "      <td>2.301021e+09</td>\n",
       "      <td>1.0</td>\n",
       "      <td>8.000000</td>\n",
       "      <td>8.000000</td>\n",
       "    </tr>\n",
       "    <tr>\n",
       "      <th>max</th>\n",
       "      <td>2.301021e+09</td>\n",
       "      <td>1.0</td>\n",
       "      <td>9.890000</td>\n",
       "      <td>9.890000</td>\n",
       "    </tr>\n",
       "  </tbody>\n",
       "</table>\n",
       "</div>"
      ]
     },
     "execution_count": 11,
     "metadata": {},
     "output_type": "execute_result"
    }
   ],
   "execution_count": 11
  },
  {
   "cell_type": "code",
   "metadata": {
    "ExecuteTime": {
     "end_time": "2024-10-31T04:42:18.932449Z",
     "start_time": "2024-10-31T04:42:18.906788Z"
    }
   },
   "source": [
    "df_sem2.describe()"
   ],
   "outputs": [
    {
     "data": {
      "text/plain": [
       "            regn_no  Semster        sgpa        cgpa\n",
       "count  7.930000e+02    793.0  793.000000  793.000000\n",
       "mean   2.300768e+09      2.0    7.006003    6.809786\n",
       "std    7.102207e+06      0.0    2.300535    2.245968\n",
       "min    2.101020e+09      2.0    0.000000    0.000000\n",
       "25%    2.301020e+09      2.0    6.810000    6.400000\n",
       "50%    2.301020e+09      2.0    7.620000    7.430000\n",
       "75%    2.301021e+09      2.0    8.380000    8.180000\n",
       "max    2.301021e+09      2.0    9.860000    9.880000"
      ],
      "text/html": [
       "<div>\n",
       "<style scoped>\n",
       "    .dataframe tbody tr th:only-of-type {\n",
       "        vertical-align: middle;\n",
       "    }\n",
       "\n",
       "    .dataframe tbody tr th {\n",
       "        vertical-align: top;\n",
       "    }\n",
       "\n",
       "    .dataframe thead th {\n",
       "        text-align: right;\n",
       "    }\n",
       "</style>\n",
       "<table border=\"1\" class=\"dataframe\">\n",
       "  <thead>\n",
       "    <tr style=\"text-align: right;\">\n",
       "      <th></th>\n",
       "      <th>regn_no</th>\n",
       "      <th>Semster</th>\n",
       "      <th>sgpa</th>\n",
       "      <th>cgpa</th>\n",
       "    </tr>\n",
       "  </thead>\n",
       "  <tbody>\n",
       "    <tr>\n",
       "      <th>count</th>\n",
       "      <td>7.930000e+02</td>\n",
       "      <td>793.0</td>\n",
       "      <td>793.000000</td>\n",
       "      <td>793.000000</td>\n",
       "    </tr>\n",
       "    <tr>\n",
       "      <th>mean</th>\n",
       "      <td>2.300768e+09</td>\n",
       "      <td>2.0</td>\n",
       "      <td>7.006003</td>\n",
       "      <td>6.809786</td>\n",
       "    </tr>\n",
       "    <tr>\n",
       "      <th>std</th>\n",
       "      <td>7.102207e+06</td>\n",
       "      <td>0.0</td>\n",
       "      <td>2.300535</td>\n",
       "      <td>2.245968</td>\n",
       "    </tr>\n",
       "    <tr>\n",
       "      <th>min</th>\n",
       "      <td>2.101020e+09</td>\n",
       "      <td>2.0</td>\n",
       "      <td>0.000000</td>\n",
       "      <td>0.000000</td>\n",
       "    </tr>\n",
       "    <tr>\n",
       "      <th>25%</th>\n",
       "      <td>2.301020e+09</td>\n",
       "      <td>2.0</td>\n",
       "      <td>6.810000</td>\n",
       "      <td>6.400000</td>\n",
       "    </tr>\n",
       "    <tr>\n",
       "      <th>50%</th>\n",
       "      <td>2.301020e+09</td>\n",
       "      <td>2.0</td>\n",
       "      <td>7.620000</td>\n",
       "      <td>7.430000</td>\n",
       "    </tr>\n",
       "    <tr>\n",
       "      <th>75%</th>\n",
       "      <td>2.301021e+09</td>\n",
       "      <td>2.0</td>\n",
       "      <td>8.380000</td>\n",
       "      <td>8.180000</td>\n",
       "    </tr>\n",
       "    <tr>\n",
       "      <th>max</th>\n",
       "      <td>2.301021e+09</td>\n",
       "      <td>2.0</td>\n",
       "      <td>9.860000</td>\n",
       "      <td>9.880000</td>\n",
       "    </tr>\n",
       "  </tbody>\n",
       "</table>\n",
       "</div>"
      ]
     },
     "execution_count": 12,
     "metadata": {},
     "output_type": "execute_result"
    }
   ],
   "execution_count": 12
  },
  {
   "cell_type": "code",
   "metadata": {
    "ExecuteTime": {
     "end_time": "2024-10-31T04:42:20.956557Z",
     "start_time": "2024-10-31T04:42:18.938463Z"
    }
   },
   "source": [
    "#find outliers\n",
    "sns.boxplot(x=df_sem1['cgpa'])\n",
    "plt.title('CGPA of 1st Semester')\n",
    "plt.show()"
   ],
   "outputs": [
    {
     "data": {
      "text/plain": [
       "<Figure size 640x480 with 1 Axes>"
      ],
      "image/png": "[encoded data removed]"
     },
     "metadata": {},
     "output_type": "display_data"
    }
   ],
   "execution_count": 13
  },
  {
   "cell_type": "code",
   "metadata": {
    "ExecuteTime": {
     "end_time": "2024-10-31T04:42:22.847843Z",
     "start_time": "2024-10-31T04:42:20.981570Z"
    }
   },
   "source": [
    "sns.boxplot(x=df_sem2['cgpa'])\n",
    "plt.title('CGPA of 2nd Semester')"
   ],
   "outputs": [
    {
     "data": {
      "text/plain": [
       "Text(0.5, 1.0, 'CGPA of 2nd Semester')"
      ]
     },
     "execution_count": 14,
     "metadata": {},
     "output_type": "execute_result"
    },
    {
     "data": {
      "text/plain": [
       "<Figure size 640x480 with 1 Axes>"
      ],
      "image/png": "[encoded data removed]"
     },
     "metadata": {},
     "output_type": "display_data"
    }
   ],
   "execution_count": 14
  },
  {
   "cell_type": "code",
   "metadata": {
    "ExecuteTime": {
     "end_time": "2024-10-31T04:42:22.864234Z",
     "start_time": "2024-10-31T04:42:22.850860Z"
    }
   },
   "source": [
    "#removing outliers\n",
    "df_sem1 = df_sem1[df_sem1['cgpa'] > 2.0]\n",
    "df_sem2 = df_sem2[df_sem2['cgpa'] > 2.0]"
   ],
   "outputs": [],
   "execution_count": 15
  },
  {
   "cell_type": "code",
   "metadata": {
    "ExecuteTime": {
     "end_time": "2024-10-31T04:42:24.007819Z",
     "start_time": "2024-10-31T04:42:22.866246Z"
    }
   },
   "source": [
    "#plotting the data\n",
    "sns.boxplot(x=df_sem1['cgpa'])\n",
    "plt.title('CGPA of 1st Semester after removing outliers')"
   ],
   "outputs": [
    {
     "data": {
      "text/plain": [
       "Text(0.5, 1.0, 'CGPA of 1st Semester after removing outliers')"
      ]
     },
     "execution_count": 16,
     "metadata": {},
     "output_type": "execute_result"
    },
    {
     "data": {
      "text/plain": [
       "<Figure size 640x480 with 1 Axes>"
      ],
      "image/png": "[encoded data removed]"
     },
     "metadata": {},
     "output_type": "display_data"
    }
   ],
   "execution_count": 16
  },
  {
   "cell_type": "code",
   "metadata": {
    "ExecuteTime": {
     "end_time": "2024-10-31T04:42:25.408891Z",
     "start_time": "2024-10-31T04:42:24.011828Z"
    }
   },
   "source": [
    "sns.boxplot(x=df_sem2['cgpa'])\n",
    "plt.title('CGPA of 2nd Semester after removing outliers')"
   ],
   "outputs": [
    {
     "data": {
      "text/plain": [
       "Text(0.5, 1.0, 'CGPA of 2nd Semester after removing outliers')"
      ]
     },
     "execution_count": 17,
     "metadata": {},
     "output_type": "execute_result"
    },
    {
     "data": {
      "text/plain": [
       "<Figure size 640x480 with 1 Axes>"
      ],
      "image/png": "[encoded data removed]"
     },
     "metadata": {},
     "output_type": "display_data"
    }
   ],
   "execution_count": 17
  },
  {
   "cell_type": "code",
   "metadata": {
    "ExecuteTime": {
     "end_time": "2024-10-31T04:42:26.516396Z",
     "start_time": "2024-10-31T04:42:25.411903Z"
    }
   },
   "source": [
    "#plotting the data in branch wise\n",
    "plt.figure(figsize=(10,6))\n",
    "df_sem1['std_branch'].value_counts().plot(kind='bar',color = 'orange')\n",
    "plt.title('Branch wise students in 1st Semester')\n",
    "plt.show()"
   ],
   "outputs": [
    {
     "data": {
      "text/plain": [
       "<Figure size 1000x600 with 1 Axes>"
      ],
      "image/png": "[encoded data removed]"
     },
     "metadata": {},
     "output_type": "display_data"
    }
   ],
   "execution_count": 18
  },
  {
   "cell_type": "code",
   "metadata": {
    "ExecuteTime": {
     "end_time": "2024-10-31T04:42:27.156170Z",
     "start_time": "2024-10-31T04:42:26.519409Z"
    }
   },
   "source": [
    "#perfroamnce of students in 1st semester branch wise\n",
    "plt.figure(figsize=(10,6))\n",
    "sns.boxplot(x='std_branch',y='cgpa',data=df_sem1)\n",
    "plt.title('Branch wise performance in 1st Semester')\n",
    "plt.show()"
   ],
   "outputs": [
    {
     "data": {
      "text/plain": [
       "<Figure size 1000x600 with 1 Axes>"
      ],
      "image/png": "[encoded data removed]"
     },
     "metadata": {},
     "output_type": "display_data"
    }
   ],
   "execution_count": 19
  },
  {
   "cell_type": "code",
   "metadata": {
    "ExecuteTime": {
     "end_time": "2024-10-31T04:42:27.716897Z",
     "start_time": "2024-10-31T04:42:27.158184Z"
    }
   },
   "source": [
    "#perfroamnce of students in 2nd semester branch wise\n",
    "plt.figure(figsize=(10,6))\n",
    "sns.boxplot(x='std_branch',y='cgpa',data=df_sem2)\n",
    "plt.title('Branch wise performance in 2nd Semester')\n",
    "plt.show()"
   ],
   "outputs": [
    {
     "data": {
      "text/plain": [
       "<Figure size 1000x600 with 1 Axes>"
      ],
      "image/png": "[encoded data removed]"
     },
     "metadata": {},
     "output_type": "display_data"
    }
   ],
   "execution_count": 20
  },
  {
   "cell_type": "code",
   "metadata": {
    "ExecuteTime": {
     "end_time": "2024-10-31T04:42:28.083292Z",
     "start_time": "2024-10-31T04:42:27.718909Z"
    }
   },
   "source": [
    "# comparing the performance of students in 1st and 2nd semester\n",
    "plt.figure(figsize=(10,6))\n",
    "sns.boxplot(x='Semster',y='cgpa',data=df)\n",
    "plt.title('Performance of students in 1st and 2nd Semester')\n",
    "plt.show()"
   ],
   "outputs": [
    {
     "data": {
      "text/plain": [
       "<Figure size 1000x600 with 1 Axes>"
      ],
      "image/png": "[encoded data removed]"
     },
     "metadata": {},
     "output_type": "display_data"
    }
   ],
   "execution_count": 21
  },
  {
   "cell_type": "code",
   "metadata": {
    "ExecuteTime": {
     "end_time": "2024-10-31T04:42:28.982299Z",
     "start_time": "2024-10-31T04:42:28.091307Z"
    }
   },
   "source": [
    "#comparing the performance of students in 1st and 2nd semester branch wise\n",
    "plt.figure(figsize=(10,6))\n",
    "sns.boxplot(x='std_branch',y='cgpa',hue='Semster',data=df)\n",
    "plt.title('Performance of students in 1st and 2nd Semester branch wise')\n",
    "plt.show()"
   ],
   "outputs": [
    {
     "data": {
      "text/plain": [
       "<Figure size 1000x600 with 1 Axes>"
      ],
      "image/png": "[encoded data removed]"
     },
     "metadata": {},
     "output_type": "display_data"
    }
   ],
   "execution_count": 22
  },
  {
   "cell_type": "code",
   "metadata": {
    "ExecuteTime": {
     "end_time": "2024-10-31T04:42:29.318474Z",
     "start_time": "2024-10-31T04:42:28.984308Z"
    }
   },
   "source": [
    "# no of students who scored O,E,A,B,C,D,F in CS101--Programming for Problem Solving\n",
    "plt.figure(figsize=(10,6))\n",
    "df['CS101--Programming for Problem Solving'].value_counts().plot(kind='bar',color = 'orange')\n",
    "plt.title('No of students who scored O,E,A,B,C,D,F in CS101--Programming for Problem Solving')\n",
    "plt.show()"
   ],
   "outputs": [
    {
     "data": {
      "text/plain": [
       "<Figure size 1000x600 with 1 Axes>"
      ],
      "image/png": "[encoded data removed]"
     },
     "metadata": {},
     "output_type": "display_data"
    }
   ],
   "execution_count": 23
  },
  {
   "cell_type": "code",
   "metadata": {
    "ExecuteTime": {
     "end_time": "2024-10-31T04:42:29.801757Z",
     "start_time": "2024-10-31T04:42:29.321498Z"
    }
   },
   "source": [
    "plt.figure(figsize=(10,6))\n",
    "df['CS171--Programming for Problem Solving Lab'].value_counts().plot(kind='bar',color = 'orange')"
   ],
   "outputs": [
    {
     "data": {
      "text/plain": [
       "<Axes: xlabel='CS171--Programming for Problem Solving Lab'>"
      ]
     },
     "execution_count": 24,
     "metadata": {},
     "output_type": "execute_result"
    },
    {
     "data": {
      "text/plain": [
       "<Figure size 1000x600 with 1 Axes>"
      ],
      "image/png": "[encoded data removed]"
     },
     "metadata": {},
     "output_type": "display_data"
    }
   ],
   "execution_count": 24
  },
  {
   "cell_type": "code",
   "metadata": {
    "ExecuteTime": {
     "end_time": "2024-10-31T04:42:30.440682Z",
     "start_time": "2024-10-31T04:42:29.803769Z"
    }
   },
   "source": [
    "plt.figure(figsize=(10,6))\n",
    "df['CS171--Programming for Problem Solving Lab'].value_counts().plot(kind='bar',color = 'orange')"
   ],
   "outputs": [
    {
     "data": {
      "text/plain": [
       "<Axes: xlabel='CS171--Programming for Problem Solving Lab'>"
      ]
     },
     "execution_count": 25,
     "metadata": {},
     "output_type": "execute_result"
    },
    {
     "data": {
      "text/plain": [
       "<Figure size 1000x600 with 1 Axes>"
      ],
      "image/png": "[encoded data removed]"
     },
     "metadata": {},
     "output_type": "display_data"
    }
   ],
   "execution_count": 25
  },
  {
   "cell_type": "code",
   "metadata": {
    "ExecuteTime": {
     "end_time": "2024-10-31T04:42:30.980330Z",
     "start_time": "2024-10-31T04:42:30.443701Z"
    }
   },
   "source": [
    "plt.figure(figsize=(10,6))\n",
    "df['EC101--Introduction to  Electronics Engineering'].value_counts().plot(kind='bar',color = 'yellow')"
   ],
   "outputs": [
    {
     "data": {
      "text/plain": [
       "<Axes: xlabel='EC101--Introduction to  Electronics Engineering'>"
      ]
     },
     "execution_count": 26,
     "metadata": {},
     "output_type": "execute_result"
    },
    {
     "data": {
      "text/plain": [
       "<Figure size 1000x600 with 1 Axes>"
      ],
      "image/png": "[encoded data removed]"
     },
     "metadata": {},
     "output_type": "display_data"
    }
   ],
   "execution_count": 26
  },
  {
   "cell_type": "code",
   "metadata": {
    "ExecuteTime": {
     "end_time": "2024-10-31T04:42:31.003693Z",
     "start_time": "2024-10-31T04:42:30.983340Z"
    }
   },
   "source": [
    "pass_grades = ['O','E','A','B','C','D','M','S','FR']  # Include grades that are considered passing\n",
    "\n",
    "# Overall Pass/Fail Rate\n",
    "total_subjects = 0\n",
    "total_passes = 0\n",
    "\n",
    "# Subject-wise Pass/Fail Rate\n",
    "subject_pass_fail = {}\n",
    "\n",
    "# Loop through each subject column\n",
    "for column in df.columns[4:-2]:  # Skip non-grade columns like registration number, name, etc.\n",
    "    subject_grades = df[column]\n",
    "    \n",
    "    total_subjects += len(subject_grades)\n",
    "    \n",
    "    # Count passes and fails\n",
    "    passes = subject_grades.isin(pass_grades).sum()\n",
    "    fails = len(subject_grades) - passes\n",
    "    \n",
    "    total_passes += passes\n",
    "    \n",
    "    # Calculate pass rate for the subject\n",
    "    subject_pass_fail[column] = {\n",
    "        'pass_rate': (passes / len(subject_grades)) * 100,\n",
    "        'fail_rate': (fails / len(subject_grades)) * 100\n",
    "    }\n",
    "\n",
    "# Calculate overall pass/fail rate\n",
    "overall_pass_rate = (total_passes / total_subjects) * 100\n",
    "overall_fail_rate = 100 - overall_pass_rate\n",
    "\n",
    "# Display the results\n",
    "print(f\"Overall Pass Rate: {overall_pass_rate:.2f}%\")\n",
    "print(f\"Overall Fail Rate: {overall_fail_rate:.2f}%\")\n",
    "print(\"\\nSubject-wise Pass/Fail Rates:\")\n",
    "\n",
    "for subject, rates in subject_pass_fail.items():\n",
    "    print(f\"{subject}: Pass Rate = {rates['pass_rate']:.2f}%, Fail Rate = {rates['fail_rate']:.2f}%\")"
   ],
   "outputs": [
    {
     "name": "stdout",
     "output_type": "stream",
     "text": [
      "Overall Pass Rate: 35.42%\n",
      "Overall Fail Rate: 64.58%\n",
      "\n",
      "Subject-wise Pass/Fail Rates:\n",
      "CS101--Programming for Problem Solving: Pass Rate = 49.97%, Fail Rate = 50.03%\n",
      "CS171--Programming for Problem Solving Lab: Pass Rate = 49.97%, Fail Rate = 50.03%\n",
      "EC101--Introduction to  Electronics Engineering: Pass Rate = 49.91%, Fail Rate = 50.09%\n",
      "EC171--Introduction to Electronics Engineering Lab: Pass Rate = 49.97%, Fail Rate = 50.03%\n",
      "EE100--Basic Electrical Engineering: Pass Rate = 50.03%, Fail Rate = 49.97%\n",
      "EE170--Basic Electrical Engineering Lab: Pass Rate = 50.03%, Fail Rate = 49.97%\n",
      "LS101--Life Skills  I: Pass Rate = 21.77%, Fail Rate = 78.23%\n",
      "LS102--Life Skills  II: Pass Rate = 28.20%, Fail Rate = 71.80%\n",
      "MA101--Mathematics I: Pass Rate = 49.97%, Fail Rate = 50.03%\n",
      "ME131--Introduction to Mechanical Engineering: Pass Rate = 49.97%, Fail Rate = 50.03%\n",
      "ME181--Computer Aided Drawing & Graphics: Pass Rate = 49.97%, Fail Rate = 50.03%\n",
      "PH101--Physics: Pass Rate = 50.03%, Fail Rate = 49.97%\n",
      "PH181--Physics Lab: Pass Rate = 50.03%, Fail Rate = 49.97%\n",
      "CS102--Data Structure: Pass Rate = 50.03%, Fail Rate = 49.97%\n",
      "CS172--Data Structure Lab: Pass Rate = 50.03%, Fail Rate = 49.97%\n",
      "HS101--Professional Communication: Pass Rate = 50.03%, Fail Rate = 49.97%\n",
      "MA102--Mathematics II: Pass Rate = 50.03%, Fail Rate = 49.97%\n",
      "XC102--CHESS: Pass Rate = 3.60%, Fail Rate = 96.40%\n",
      "XC103--Carrom: Pass Rate = 3.97%, Fail Rate = 96.03%\n",
      "XC104--Basketball: Pass Rate = 3.72%, Fail Rate = 96.28%\n",
      "XC107--Volleyball: Pass Rate = 5.55%, Fail Rate = 94.45%\n",
      "XC109--NSS: Pass Rate = 2.02%, Fail Rate = 97.98%\n",
      "XC111--Yoga: Pass Rate = 9.40%, Fail Rate = 90.60%\n",
      "XC192--Life Skill-I: Pass Rate = 21.77%, Fail Rate = 78.23%\n"
     ]
    }
   ],
   "execution_count": 27
  },
  {
   "cell_type": "code",
   "metadata": {
    "ExecuteTime": {
     "end_time": "2024-10-31T04:42:31.051042Z",
     "start_time": "2024-10-31T04:42:31.005701Z"
    }
   },
   "source": [
    "df['Semster'] = df['Semster'].astype(int)  # Convert semester to integer if needed\n",
    "df = df.sort_values(by=['Semster', 'regn_no'])  # Sort by Semester and registration number\n",
    "\n",
    "# Aggregate Semester-wise SGPA\n",
    "semester_avg_sgpa = df.groupby('Semster')['sgpa'].mean()\n",
    "\n",
    "print(\"Semester-wise Average SGPA:\")\n",
    "print(semester_avg_sgpa)\n",
    "\n",
    "# Individual Student Performance Trends\n",
    "student_performance = df.pivot_table(index='regn_no', columns='Semster', values='sgpa')\n",
    "\n",
    "print(\"\\nStudent Performance Across Semesters:\")\n",
    "print(student_performance.head())  # Display the first few rows for review\n",
    "\n",
    "# Calculate Improvement or Decline\n",
    "student_performance['Performance_Trend'] = student_performance.diff(axis=1).sum(axis=1)\n",
    "\n",
    "# Identify Students with Significant Improvement or Decline\n",
    "improved_students = student_performance[student_performance['Performance_Trend'] > 0]\n",
    "declined_students = student_performance[student_performance['Performance_Trend'] < 0]\n",
    "\n",
    "print(\"\\nStudents with Significant Improvement:\")\n",
    "print(improved_students[['Performance_Trend']].sort_values(by='Performance_Trend', ascending=False))\n",
    "\n",
    "print(\"\\nStudents with Significant Decline:\")\n",
    "print((declined_students[['Performance_Trend']].sort_values(by='Performance_Trend')).head())"
   ],
   "outputs": [
    {
     "name": "stdout",
     "output_type": "stream",
     "text": [
      "Semester-wise Average SGPA:\n",
      "Semster\n",
      "1    6.583712\n",
      "2    7.006003\n",
      "Name: sgpa, dtype: float64\n",
      "\n",
      "Student Performance Across Semesters:\n",
      "Semster        1     2\n",
      "regn_no               \n",
      "2101020465  7.32  7.76\n",
      "2301020001  6.47  5.76\n",
      "2301020002  7.79  8.19\n",
      "2301020003  7.37  7.71\n",
      "2301020004  7.95  7.81\n",
      "\n",
      "Students with Significant Improvement:\n",
      "Semster     Performance_Trend\n",
      "regn_no                      \n",
      "2301020944               9.62\n",
      "2301020940               8.38\n",
      "2301020934               8.00\n",
      "2301020942               7.90\n",
      "2301020941               7.90\n",
      "...                       ...\n",
      "2301020539               0.03\n",
      "2301020411               0.02\n",
      "2301020435               0.01\n",
      "2301020401               0.01\n",
      "2301020585               0.01\n",
      "\n",
      "[549 rows x 1 columns]\n",
      "\n",
      "Students with Significant Decline:\n",
      "Semster     Performance_Trend\n",
      "regn_no                      \n",
      "2301020163              -6.01\n",
      "2301020249              -3.92\n",
      "2301020838              -3.62\n",
      "2301020424              -3.44\n",
      "2301020804              -3.24\n"
     ]
    }
   ],
   "execution_count": 28
  },
  {
   "cell_type": "code",
   "metadata": {
    "ExecuteTime": {
     "end_time": "2024-10-31T04:42:31.099325Z",
     "start_time": "2024-10-31T04:42:31.052049Z"
    }
   },
   "source": [
    "grade_to_num = {\n",
    "    'O': 10, 'E': 9, 'A': 8, 'B': 7, 'C': 6,\n",
    "    'D': 5, 'M': 4, 'S': 3, 'FR': 0, 'F': 0, 'NA': np.nan\n",
    "}\n",
    "\n",
    "# Convert grades to numerical values for all subject columns\n",
    "subject_columns = df.columns[4:-2]  # Adjust to select all relevant subject columns\n",
    "for column in subject_columns:\n",
    "    df[column] = df[column].map(grade_to_num)\n",
    "\n",
    "# Calculate the average grade for each subject\n",
    "subject_averages = df[subject_columns].mean()\n",
    "\n",
    "print(\"Subject-wise Class Averages (on a scale of 10):\")\n",
    "print(subject_averages)\n",
    "\n",
    "# Branch-wise SGPA and CGPA averages\n",
    "branch_avg_sgpa = df.groupby('std_branch')['sgpa'].mean()\n",
    "branch_avg_cgpa = df.groupby('std_branch')['cgpa'].mean()\n",
    "\n",
    "print(\"\\nBranch-wise Average SGPA:\")\n",
    "print(branch_avg_sgpa)\n",
    "\n",
    "print(\"\\nBranch-wise Average CGPA:\")\n",
    "print(branch_avg_cgpa)"
   ],
   "outputs": [
    {
     "name": "stdout",
     "output_type": "stream",
     "text": [
      "Subject-wise Class Averages (on a scale of 10):\n",
      "CS101--Programming for Problem Solving                6.450758\n",
      "CS171--Programming for Problem Solving Lab            8.190657\n",
      "EC101--Introduction to  Electronics Engineering       6.635904\n",
      "EC171--Introduction to Electronics Engineering Lab    8.185606\n",
      "EE100--Basic Electrical Engineering                   6.862547\n",
      "EE170--Basic Electrical Engineering Lab               8.612863\n",
      "LS101--Life Skills  I                                 7.217391\n",
      "LS102--Life Skills  II                                6.872483\n",
      "MA101--Mathematics I                                  5.184343\n",
      "ME131--Introduction to Mechanical Engineering         6.270202\n",
      "ME181--Computer Aided Drawing & Graphics              8.337121\n",
      "PH101--Physics                                        5.254729\n",
      "PH181--Physics Lab                                    8.165195\n",
      "CS102--Data Structure                                 7.172762\n",
      "CS172--Data Structure Lab                             8.374527\n",
      "HS101--Professional Communication                     7.128625\n",
      "MA102--Mathematics II                                 6.282472\n",
      "XC102--CHESS                                          8.333333\n",
      "XC103--Carrom                                         8.730159\n",
      "XC104--Basketball                                     6.101695\n",
      "XC107--Volleyball                                     7.636364\n",
      "XC109--NSS                                            8.125000\n",
      "XC111--Yoga                                           7.590604\n",
      "XC192--Life Skill-I                                   6.901449\n",
      "dtype: float64\n",
      "\n",
      "Branch-wise Average SGPA:\n",
      "std_branch\n",
      "AIDS     6.612258\n",
      "CAM      6.857500\n",
      "COE      6.336207\n",
      "CSC      7.239429\n",
      "CSD      6.408333\n",
      "CSE      7.350591\n",
      "CSI      6.098421\n",
      "CSIT     6.789059\n",
      "CSSE     5.866538\n",
      "CSSYE    6.086964\n",
      "CSW      7.336250\n",
      "RAI      6.217143\n",
      "Name: sgpa, dtype: float64\n",
      "\n",
      "Branch-wise Average CGPA:\n",
      "std_branch\n",
      "AIDS     6.485565\n",
      "CAM      6.749467\n",
      "COE      6.063276\n",
      "CSC      7.178143\n",
      "CSD      6.317949\n",
      "CSE      7.257301\n",
      "CSI      6.027105\n",
      "CSIT     6.710594\n",
      "CSSE     5.847051\n",
      "CSSYE    5.928393\n",
      "CSW      7.260208\n",
      "RAI      6.158214\n",
      "Name: cgpa, dtype: float64\n"
     ]
    }
   ],
   "execution_count": 29
  },
  {
   "cell_type": "code",
   "metadata": {
    "ExecuteTime": {
     "end_time": "2024-10-31T04:51:49.480657Z",
     "start_time": "2024-10-31T04:51:49.339158Z"
    }
   },
   "source": [
    "#Predictive Analytics: Implement predictive models to flag students who might struggle in upcoming semesters based on past performance trends,\n",
    "\n",
    "# Identify Students with Significant Improvement or Decline\n",
    "improved_students = student_performance[student_performance['Performance_Trend'] > 0]\n",
    "declined_students = student_performance[student_performance['Performance_Trend'] < 0]\n",
    "\n",
    "print(\"\\nStudents with Significant Improvement:\")\n",
    "print(improved_students[['Performance_Trend']].sort_values(by='Performance_Trend', ascending=False))\n",
    "\n",
    "print(\"\\nStudents with Significant Decline:\")\n",
    "print((declined_students[['Performance_Trend']].sort_values(by='Performance_Trend')).head())\n",
    "\n"
   ],
   "outputs": [
    {
     "name": "stdout",
     "output_type": "stream",
     "text": [
      "\n",
      "Students with Significant Improvement:\n",
      "Semster     Performance_Trend\n",
      "regn_no                      \n",
      "2301020944               9.62\n",
      "2301020940               8.38\n",
      "2301020934               8.00\n",
      "2301020942               7.90\n",
      "2301020941               7.90\n",
      "...                       ...\n",
      "2301020539               0.03\n",
      "2301020411               0.02\n",
      "2301020435               0.01\n",
      "2301020401               0.01\n",
      "2301020585               0.01\n",
      "\n",
      "[549 rows x 1 columns]\n",
      "\n",
      "Students with Significant Decline:\n",
      "Semster     Performance_Trend\n",
      "regn_no                      \n",
      "2301020163              -6.01\n",
      "2301020249              -3.92\n",
      "2301020838              -3.62\n",
      "2301020424              -3.44\n",
      "2301020804              -3.24\n"
     ]
    }
   ],
   "execution_count": 32
  },
  {
   "metadata": {
    "ExecuteTime": {
     "end_time": "2024-10-31T04:56:33.526007Z",
     "start_time": "2024-10-31T04:56:33.520833Z"
    }
   },
   "cell_type": "code",
   "source": [
    "from sklearn.model_selection import train_test_split\n",
    "from sklearn.linear_model import LinearRegression\n",
    "from sklearn.metrics import mean_squared_error, r2_score"
   ],
   "outputs": [],
   "execution_count": 42
  },
  {
   "metadata": {
    "ExecuteTime": {
     "end_time": "2024-10-31T04:57:08.980695Z",
     "start_time": "2024-10-31T04:57:08.972929Z"
    }
   },
   "cell_type": "code",
   "source": [
    "# Prepare the data for training\n",
    "X = df[['Semster', 'sgpa']]\n",
    "y = df['cgpa']"
   ],
   "outputs": [],
   "execution_count": 43
  },
  {
   "metadata": {
    "ExecuteTime": {
     "end_time": "2024-10-31T04:57:20.184865Z",
     "start_time": "2024-10-31T04:57:20.171970Z"
    }
   },
   "cell_type": "code",
   "source": [
    "# Split the data into training and testing sets\n",
    "X_train, X_test, y_train, y_test = train_test_split(X, y, test_size=0.2, random_state=42)"
   ],
   "outputs": [],
   "execution_count": 44
  },
  {
   "metadata": {
    "ExecuteTime": {
     "end_time": "2024-10-31T04:57:25.151602Z",
     "start_time": "2024-10-31T04:57:25.146583Z"
    }
   },
   "cell_type": "code",
   "source": [
    "# Create a Linear Regression model\n",
    "model = LinearRegression()"
   ],
   "outputs": [],
   "execution_count": 45
  },
  {
   "metadata": {
    "ExecuteTime": {
     "end_time": "2024-10-31T04:57:30.459750Z",
     "start_time": "2024-10-31T04:57:30.387995Z"
    }
   },
   "cell_type": "code",
   "source": [
    "# Train the model\n",
    "model.fit(X_train, y_train)"
   ],
   "outputs": [
    {
     "data": {
      "text/plain": [
       "LinearRegression()"
      ],
      "text/html": [
       "<style>#sk-container-id-1 {\n",
       "  /* Definition of color scheme common for light and dark mode */\n",
       "  --sklearn-color-text: black;\n",
       "  --sklearn-color-line: gray;\n",
       "  /* Definition of color scheme for unfitted estimators */\n",
       "  --sklearn-color-unfitted-level-0: #fff5e6;\n",
       "  --sklearn-color-unfitted-level-1: #f6e4d2;\n",
       "  --sklearn-color-unfitted-level-2: #ffe0b3;\n",
       "  --sklearn-color-unfitted-level-3: chocolate;\n",
       "  /* Definition of color scheme for fitted estimators */\n",
       "  --sklearn-color-fitted-level-0: #f0f8ff;\n",
       "  --sklearn-color-fitted-level-1: #d4ebff;\n",
       "  --sklearn-color-fitted-level-2: #b3dbfd;\n",
       "  --sklearn-color-fitted-level-3: cornflowerblue;\n",
       "\n",
       "  /* Specific color for light theme */\n",
       "  --sklearn-color-text-on-default-background: var(--sg-text-color, var(--theme-code-foreground, var(--jp-content-font-color1, black)));\n",
       "  --sklearn-color-background: var(--sg-background-color, var(--theme-background, var(--jp-layout-color0, white)));\n",
       "  --sklearn-color-border-box: var(--sg-text-color, var(--theme-code-foreground, var(--jp-content-font-color1, black)));\n",
       "  --sklearn-color-icon: #696969;\n",
       "\n",
       "  @media (prefers-color-scheme: dark) {\n",
       "    /* Redefinition of color scheme for dark theme */\n",
       "    --sklearn-color-text-on-default-background: var(--sg-text-color, var(--theme-code-foreground, var(--jp-content-font-color1, white)));\n",
       "    --sklearn-color-background: var(--sg-background-color, var(--theme-background, var(--jp-layout-color0, #111)));\n",
       "    --sklearn-color-border-box: var(--sg-text-color, var(--theme-code-foreground, var(--jp-content-font-color1, white)));\n",
       "    --sklearn-color-icon: #878787;\n",
       "  }\n",
       "}\n",
       "\n",
       "#sk-container-id-1 {\n",
       "  color: var(--sklearn-color-text);\n",
       "}\n",
       "\n",
       "#sk-container-id-1 pre {\n",
       "  padding: 0;\n",
       "}\n",
       "\n",
       "#sk-container-id-1 input.sk-hidden--visually {\n",
       "  border: 0;\n",
       "  clip: rect(1px 1px 1px 1px);\n",
       "  clip: rect(1px, 1px, 1px, 1px);\n",
       "  height: 1px;\n",
       "  margin: -1px;\n",
       "  overflow: hidden;\n",
       "  padding: 0;\n",
       "  position: absolute;\n",
       "  width: 1px;\n",
       "}\n",
       "\n",
       "#sk-container-id-1 div.sk-dashed-wrapped {\n",
       "  border: 1px dashed var(--sklearn-color-line);\n",
       "  margin: 0 0.4em 0.5em 0.4em;\n",
       "  box-sizing: border-box;\n",
       "  padding-bottom: 0.4em;\n",
       "  background-color: var(--sklearn-color-background);\n",
       "}\n",
       "\n",
       "#sk-container-id-1 div.sk-container {\n",
       "  /* jupyter's `normalize.less` sets `[hidden] { display: none; }`\n",
       "     but bootstrap.min.css set `[hidden] { display: none !important; }`\n",
       "     so we also need the `!important` here to be able to override the\n",
       "     default hidden behavior on the sphinx rendered scikit-learn.org.\n",
       "     See: https://github.com/scikit-learn/scikit-learn/issues/21755 */\n",
       "  display: inline-block !important;\n",
       "  position: relative;\n",
       "}\n",
       "\n",
       "#sk-container-id-1 div.sk-text-repr-fallback {\n",
       "  display: none;\n",
       "}\n",
       "\n",
       "div.sk-parallel-item,\n",
       "div.sk-serial,\n",
       "div.sk-item {\n",
       "  /* draw centered vertical line to link estimators */\n",
       "  background-image: linear-gradient(var(--sklearn-color-text-on-default-background), var(--sklearn-color-text-on-default-background));\n",
       "  background-size: 2px 100%;\n",
       "  background-repeat: no-repeat;\n",
       "  background-position: center center;\n",
       "}\n",
       "\n",
       "/* Parallel-specific style estimator block */\n",
       "\n",
       "#sk-container-id-1 div.sk-parallel-item::after {\n",
       "  content: \"\";\n",
       "  width: 100%;\n",
       "  border-bottom: 2px solid var(--sklearn-color-text-on-default-background);\n",
       "  flex-grow: 1;\n",
       "}\n",
       "\n",
       "#sk-container-id-1 div.sk-parallel {\n",
       "  display: flex;\n",
       "  align-items: stretch;\n",
       "  justify-content: center;\n",
       "  background-color: var(--sklearn-color-background);\n",
       "  position: relative;\n",
       "}\n",
       "\n",
       "#sk-container-id-1 div.sk-parallel-item {\n",
       "  display: flex;\n",
       "  flex-direction: column;\n",
       "}\n",
       "\n",
       "#sk-container-id-1 div.sk-parallel-item:first-child::after {\n",
       "  align-self: flex-end;\n",
       "  width: 50%;\n",
       "}\n",
       "\n",
       "#sk-container-id-1 div.sk-parallel-item:last-child::after {\n",
       "  align-self: flex-start;\n",
       "  width: 50%;\n",
       "}\n",
       "\n",
       "#sk-container-id-1 div.sk-parallel-item:only-child::after {\n",
       "  width: 0;\n",
       "}\n",
       "\n",
       "/* Serial-specific style estimator block */\n",
       "\n",
       "#sk-container-id-1 div.sk-serial {\n",
       "  display: flex;\n",
       "  flex-direction: column;\n",
       "  align-items: center;\n",
       "  background-color: var(--sklearn-color-background);\n",
       "  padding-right: 1em;\n",
       "  padding-left: 1em;\n",
       "}\n",
       "\n",
       "\n",
       "/* Toggleable style: style used for estimator/Pipeline/ColumnTransformer box that is\n",
       "clickable and can be expanded/collapsed.\n",
       "- Pipeline and ColumnTransformer use this feature and define the default style\n",
       "- Estimators will overwrite some part of the style using the `sk-estimator` class\n",
       "*/\n",
       "\n",
       "/* Pipeline and ColumnTransformer style (default) */\n",
       "\n",
       "#sk-container-id-1 div.sk-toggleable {\n",
       "  /* Default theme specific background. It is overwritten whether we have a\n",
       "  specific estimator or a Pipeline/ColumnTransformer */\n",
       "  background-color: var(--sklearn-color-background);\n",
       "}\n",
       "\n",
       "/* Toggleable label */\n",
       "#sk-container-id-1 label.sk-toggleable__label {\n",
       "  cursor: pointer;\n",
       "  display: block;\n",
       "  width: 100%;\n",
       "  margin-bottom: 0;\n",
       "  padding: 0.5em;\n",
       "  box-sizing: border-box;\n",
       "  text-align: center;\n",
       "}\n",
       "\n",
       "#sk-container-id-1 label.sk-toggleable__label-arrow:before {\n",
       "  /* Arrow on the left of the label */\n",
       "  content: \"▸\";\n",
       "  float: left;\n",
       "  margin-right: 0.25em;\n",
       "  color: var(--sklearn-color-icon);\n",
       "}\n",
       "\n",
       "#sk-container-id-1 label.sk-toggleable__label-arrow:hover:before {\n",
       "  color: var(--sklearn-color-text);\n",
       "}\n",
       "\n",
       "/* Toggleable content - dropdown */\n",
       "\n",
       "#sk-container-id-1 div.sk-toggleable__content {\n",
       "  max-height: 0;\n",
       "  max-width: 0;\n",
       "  overflow: hidden;\n",
       "  text-align: left;\n",
       "  /* unfitted */\n",
       "  background-color: var(--sklearn-color-unfitted-level-0);\n",
       "}\n",
       "\n",
       "#sk-container-id-1 div.sk-toggleable__content.fitted {\n",
       "  /* fitted */\n",
       "  background-color: var(--sklearn-color-fitted-level-0);\n",
       "}\n",
       "\n",
       "#sk-container-id-1 div.sk-toggleable__content pre {\n",
       "  margin: 0.2em;\n",
       "  border-radius: 0.25em;\n",
       "  color: var(--sklearn-color-text);\n",
       "  /* unfitted */\n",
       "  background-color: var(--sklearn-color-unfitted-level-0);\n",
       "}\n",
       "\n",
       "#sk-container-id-1 div.sk-toggleable__content.fitted pre {\n",
       "  /* unfitted */\n",
       "  background-color: var(--sklearn-color-fitted-level-0);\n",
       "}\n",
       "\n",
       "#sk-container-id-1 input.sk-toggleable__control:checked~div.sk-toggleable__content {\n",
       "  /* Expand drop-down */\n",
       "  max-height: 200px;\n",
       "  max-width: 100%;\n",
       "  overflow: auto;\n",
       "}\n",
       "\n",
       "#sk-container-id-1 input.sk-toggleable__control:checked~label.sk-toggleable__label-arrow:before {\n",
       "  content: \"▾\";\n",
       "}\n",
       "\n",
       "/* Pipeline/ColumnTransformer-specific style */\n",
       "\n",
       "#sk-container-id-1 div.sk-label input.sk-toggleable__control:checked~label.sk-toggleable__label {\n",
       "  color: var(--sklearn-color-text);\n",
       "  background-color: var(--sklearn-color-unfitted-level-2);\n",
       "}\n",
       "\n",
       "#sk-container-id-1 div.sk-label.fitted input.sk-toggleable__control:checked~label.sk-toggleable__label {\n",
       "  background-color: var(--sklearn-color-fitted-level-2);\n",
       "}\n",
       "\n",
       "/* Estimator-specific style */\n",
       "\n",
       "/* Colorize estimator box */\n",
       "#sk-container-id-1 div.sk-estimator input.sk-toggleable__control:checked~label.sk-toggleable__label {\n",
       "  /* unfitted */\n",
       "  background-color: var(--sklearn-color-unfitted-level-2);\n",
       "}\n",
       "\n",
       "#sk-container-id-1 div.sk-estimator.fitted input.sk-toggleable__control:checked~label.sk-toggleable__label {\n",
       "  /* fitted */\n",
       "  background-color: var(--sklearn-color-fitted-level-2);\n",
       "}\n",
       "\n",
       "#sk-container-id-1 div.sk-label label.sk-toggleable__label,\n",
       "#sk-container-id-1 div.sk-label label {\n",
       "  /* The background is the default theme color */\n",
       "  color: var(--sklearn-color-text-on-default-background);\n",
       "}\n",
       "\n",
       "/* On hover, darken the color of the background */\n",
       "#sk-container-id-1 div.sk-label:hover label.sk-toggleable__label {\n",
       "  color: var(--sklearn-color-text);\n",
       "  background-color: var(--sklearn-color-unfitted-level-2);\n",
       "}\n",
       "\n",
       "/* Label box, darken color on hover, fitted */\n",
       "#sk-container-id-1 div.sk-label.fitted:hover label.sk-toggleable__label.fitted {\n",
       "  color: var(--sklearn-color-text);\n",
       "  background-color: var(--sklearn-color-fitted-level-2);\n",
       "}\n",
       "\n",
       "/* Estimator label */\n",
       "\n",
       "#sk-container-id-1 div.sk-label label {\n",
       "  font-family: monospace;\n",
       "  font-weight: bold;\n",
       "  display: inline-block;\n",
       "  line-height: 1.2em;\n",
       "}\n",
       "\n",
       "#sk-container-id-1 div.sk-label-container {\n",
       "  text-align: center;\n",
       "}\n",
       "\n",
       "/* Estimator-specific */\n",
       "#sk-container-id-1 div.sk-estimator {\n",
       "  font-family: monospace;\n",
       "  border: 1px dotted var(--sklearn-color-border-box);\n",
       "  border-radius: 0.25em;\n",
       "  box-sizing: border-box;\n",
       "  margin-bottom: 0.5em;\n",
       "  /* unfitted */\n",
       "  background-color: var(--sklearn-color-unfitted-level-0);\n",
       "}\n",
       "\n",
       "#sk-container-id-1 div.sk-estimator.fitted {\n",
       "  /* fitted */\n",
       "  background-color: var(--sklearn-color-fitted-level-0);\n",
       "}\n",
       "\n",
       "/* on hover */\n",
       "#sk-container-id-1 div.sk-estimator:hover {\n",
       "  /* unfitted */\n",
       "  background-color: var(--sklearn-color-unfitted-level-2);\n",
       "}\n",
       "\n",
       "#sk-container-id-1 div.sk-estimator.fitted:hover {\n",
       "  /* fitted */\n",
       "  background-color: var(--sklearn-color-fitted-level-2);\n",
       "}\n",
       "\n",
       "/* Specification for estimator info (e.g. \"i\" and \"?\") */\n",
       "\n",
       "/* Common style for \"i\" and \"?\" */\n",
       "\n",
       ".sk-estimator-doc-link,\n",
       "a:link.sk-estimator-doc-link,\n",
       "a:visited.sk-estimator-doc-link {\n",
       "  float: right;\n",
       "  font-size: smaller;\n",
       "  line-height: 1em;\n",
       "  font-family: monospace;\n",
       "  background-color: var(--sklearn-color-background);\n",
       "  border-radius: 1em;\n",
       "  height: 1em;\n",
       "  width: 1em;\n",
       "  text-decoration: none !important;\n",
       "  margin-left: 1ex;\n",
       "  /* unfitted */\n",
       "  border: var(--sklearn-color-unfitted-level-1) 1pt solid;\n",
       "  color: var(--sklearn-color-unfitted-level-1);\n",
       "}\n",
       "\n",
       ".sk-estimator-doc-link.fitted,\n",
       "a:link.sk-estimator-doc-link.fitted,\n",
       "a:visited.sk-estimator-doc-link.fitted {\n",
       "  /* fitted */\n",
       "  border: var(--sklearn-color-fitted-level-1) 1pt solid;\n",
       "  color: var(--sklearn-color-fitted-level-1);\n",
       "}\n",
       "\n",
       "/* On hover */\n",
       "div.sk-estimator:hover .sk-estimator-doc-link:hover,\n",
       ".sk-estimator-doc-link:hover,\n",
       "div.sk-label-container:hover .sk-estimator-doc-link:hover,\n",
       ".sk-estimator-doc-link:hover {\n",
       "  /* unfitted */\n",
       "  background-color: var(--sklearn-color-unfitted-level-3);\n",
       "  color: var(--sklearn-color-background);\n",
       "  text-decoration: none;\n",
       "}\n",
       "\n",
       "div.sk-estimator.fitted:hover .sk-estimator-doc-link.fitted:hover,\n",
       ".sk-estimator-doc-link.fitted:hover,\n",
       "div.sk-label-container:hover .sk-estimator-doc-link.fitted:hover,\n",
       ".sk-estimator-doc-link.fitted:hover {\n",
       "  /* fitted */\n",
       "  background-color: var(--sklearn-color-fitted-level-3);\n",
       "  color: var(--sklearn-color-background);\n",
       "  text-decoration: none;\n",
       "}\n",
       "\n",
       "/* Span, style for the box shown on hovering the info icon */\n",
       ".sk-estimator-doc-link span {\n",
       "  display: none;\n",
       "  z-index: 9999;\n",
       "  position: relative;\n",
       "  font-weight: normal;\n",
       "  right: .2ex;\n",
       "  padding: .5ex;\n",
       "  margin: .5ex;\n",
       "  width: min-content;\n",
       "  min-width: 20ex;\n",
       "  max-width: 50ex;\n",
       "  color: var(--sklearn-color-text);\n",
       "  box-shadow: 2pt 2pt 4pt #999;\n",
       "  /* unfitted */\n",
       "  background: var(--sklearn-color-unfitted-level-0);\n",
       "  border: .5pt solid var(--sklearn-color-unfitted-level-3);\n",
       "}\n",
       "\n",
       ".sk-estimator-doc-link.fitted span {\n",
       "  /* fitted */\n",
       "  background: var(--sklearn-color-fitted-level-0);\n",
       "  border: var(--sklearn-color-fitted-level-3);\n",
       "}\n",
       "\n",
       ".sk-estimator-doc-link:hover span {\n",
       "  display: block;\n",
       "}\n",
       "\n",
       "/* \"?\"-specific style due to the `<a>` HTML tag */\n",
       "\n",
       "#sk-container-id-1 a.estimator_doc_link {\n",
       "  float: right;\n",
       "  font-size: 1rem;\n",
       "  line-height: 1em;\n",
       "  font-family: monospace;\n",
       "  background-color: var(--sklearn-color-background);\n",
       "  border-radius: 1rem;\n",
       "  height: 1rem;\n",
       "  width: 1rem;\n",
       "  text-decoration: none;\n",
       "  /* unfitted */\n",
       "  color: var(--sklearn-color-unfitted-level-1);\n",
       "  border: var(--sklearn-color-unfitted-level-1) 1pt solid;\n",
       "}\n",
       "\n",
       "#sk-container-id-1 a.estimator_doc_link.fitted {\n",
       "  /* fitted */\n",
       "  border: var(--sklearn-color-fitted-level-1) 1pt solid;\n",
       "  color: var(--sklearn-color-fitted-level-1);\n",
       "}\n",
       "\n",
       "/* On hover */\n",
       "#sk-container-id-1 a.estimator_doc_link:hover {\n",
       "  /* unfitted */\n",
       "  background-color: var(--sklearn-color-unfitted-level-3);\n",
       "  color: var(--sklearn-color-background);\n",
       "  text-decoration: none;\n",
       "}\n",
       "\n",
       "#sk-container-id-1 a.estimator_doc_link.fitted:hover {\n",
       "  /* fitted */\n",
       "  background-color: var(--sklearn-color-fitted-level-3);\n",
       "}\n",
       "</style><div id=\"sk-container-id-1\" class=\"sk-top-container\"><div class=\"sk-text-repr-fallback\"><pre>LinearRegression()</pre><b>In a Jupyter environment, please rerun this cell to show the HTML representation or trust the notebook. <br />On GitHub, the HTML representation is unable to render, please try loading this page with nbviewer.org.</b></div><div class=\"sk-container\" hidden><div class=\"sk-item\"><div class=\"sk-estimator fitted sk-toggleable\"><input class=\"sk-toggleable__control sk-hidden--visually\" id=\"sk-estimator-id-1\" type=\"checkbox\" checked><label for=\"sk-estimator-id-1\" class=\"sk-toggleable__label fitted sk-toggleable__label-arrow fitted\">&nbsp;&nbsp;LinearRegression<a class=\"sk-estimator-doc-link fitted\" rel=\"noreferrer\" target=\"_blank\" href=\"https://scikit-learn.org/1.4/modules/generated/sklearn.linear_model.LinearRegression.html\">?<span>Documentation for LinearRegression</span></a><span class=\"sk-estimator-doc-link fitted\">i<span>Fitted</span></span></label><div class=\"sk-toggleable__content fitted\"><pre>LinearRegression()</pre></div> </div></div></div></div>"
      ]
     },
     "execution_count": 46,
     "metadata": {},
     "output_type": "execute_result"
    }
   ],
   "execution_count": 46
  },
  {
   "metadata": {
    "ExecuteTime": {
     "end_time": "2024-10-31T04:57:36.631741Z",
     "start_time": "2024-10-31T04:57:36.619481Z"
    }
   },
   "cell_type": "code",
   "source": [
    "# Make predictions\n",
    "y_pred = model.predict(X_test)"
   ],
   "outputs": [],
   "execution_count": 47
  },
  {
   "metadata": {
    "ExecuteTime": {
     "end_time": "2024-10-31T04:57:45.026226Z",
     "start_time": "2024-10-31T04:57:45.018403Z"
    }
   },
   "cell_type": "code",
   "source": [
    "# Evaluate the model\n",
    "mse = mean_squared_error(y_test, y_pred)\n",
    "r2 = r2_score(y_test, y_pred)"
   ],
   "outputs": [],
   "execution_count": 48
  },
  {
   "metadata": {
    "ExecuteTime": {
     "end_time": "2024-10-31T04:57:48.875655Z",
     "start_time": "2024-10-31T04:57:48.870200Z"
    }
   },
   "cell_type": "code",
   "source": [
    "print(f\"Mean Squared Error: {mse:.2f}\")\n",
    "print(f\"R^2 Score: {r2:.2f}\")"
   ],
   "outputs": [
    {
     "name": "stdout",
     "output_type": "stream",
     "text": [
      "Mean Squared Error: 0.16\n",
      "R^2 Score: 0.97\n"
     ]
    }
   ],
   "execution_count": 49
  },
  {
   "metadata": {
    "ExecuteTime": {
     "end_time": "2024-10-31T05:01:11.073592Z",
     "start_time": "2024-10-31T05:01:11.065991Z"
    }
   },
   "cell_type": "code",
   "source": [
    "# predicting the cgpa of a student\n",
    "sem = 1\n",
    "sgpa = 7.35\n",
    "# Predict the CGPA\n",
    "predicted_cgpa = model.predict([[sem, sgpa]])[0]\n",
    "\n",
    "print(f\"Predicted CGPA for Semester {sem} with SGPA {sgpa}: {predicted_cgpa:.2f}\")\n"
   ],
   "outputs": [
    {
     "name": "stdout",
     "output_type": "stream",
     "text": [
      "Predicted CGPA for Semester 1 with SGPA 7.35: 7.33\n"
     ]
    },
    {
     "name": "stderr",
     "output_type": "stream",
     "text": [
      "C:\\Users\\smrut\\anaconda3\\Lib\\site-packages\\sklearn\\base.py:493: UserWarning: X does not have valid feature names, but LinearRegression was fitted with feature names\n",
      "  warnings.warn(\n"
     ]
    }
   ],
   "execution_count": 57
  },
  {
   "metadata": {},
   "cell_type": "code",
   "outputs": [],
   "execution_count": null,
   "source": ""
  }
 ],
 "metadata": {
  "kernelspec": {
   "display_name": "Python 3",
   "language": "python",
   "name": "python3"
  },
  "language_info": {
   "codemirror_mode": {
    "name": "ipython",
    "version": 3
   },
   "file_extension": ".py",
   "mimetype": "text/x-python",
   "name": "python",
   "nbconvert_exporter": "python",
   "pygments_lexer": "ipython3",
   "version": "3.12.7"
  }
 },
 "nbformat": 4,
 "nbformat_minor": 2
}
